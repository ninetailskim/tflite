{
 "cells": [
  {
   "cell_type": "code",
   "execution_count": 1,
   "metadata": {},
   "outputs": [],
   "source": [
    "import cv2\n",
    "import copy\n",
    "import re"
   ]
  },
  {
   "cell_type": "code",
   "execution_count": 2,
   "metadata": {},
   "outputs": [],
   "source": [
    "def showBBOX(rimg, bblist, fbf):\n",
    "    img = copy.deepcopy(rimg)\n",
    "    for bbox in bblist:\n",
    "        if fbf:\n",
    "            img = copy.deepcopy(rimg)\n",
    "        cv2.rectangle(img, (bbox[0], bbox[1]), (bbox[2], bbox[3]), (255,0,0))\n",
    "        if fbf:\n",
    "            cv2.imshow(\"test\", img)\n",
    "            cv2.waitKey(0)\n",
    "    cv2.imshow(\"test\", img)\n",
    "    cv2.waitKey(0)\n",
    "    cv2.destoryAllWindows()"
   ]
  },
  {
   "cell_type": "code",
   "execution_count": 3,
   "metadata": {},
   "outputs": [],
   "source": [
    "def getBBOX(sst):\n",
    "    bboxestr = re.findall('@\\[(-*[0-9]+?,-*[0-9]+?,-*[0-9]+?,-*[0-9]+?)\\]', sst)\n",
    "    bboxesint = []\n",
    "    for bboxs in bboxestr:\n",
    "        bstr = bboxs.split(',')\n",
    "        bint = [int(b) for b in bstr]\n",
    "        bboxesint.append(bint)\n",
    "    return bboxesint"
   ]
  },
  {
   "cell_type": "code",
   "execution_count": null,
   "metadata": {},
   "outputs": [],
   "source": [
    "img = cv2.imread(\"test_images/5.bmp\")"
   ]
  },
  {
   "cell_type": "code",
   "execution_count": null,
   "metadata": {},
   "outputs": [],
   "source": [
    "sst = '''detected 0 of dog with scope 0.933594 @[387,72,992,585]\n",
    "detected 1 of dog with scope 0.839844 @[19,30,344,543]\n",
    "'''"
   ]
  },
  {
   "cell_type": "code",
   "execution_count": null,
   "metadata": {},
   "outputs": [
    {
     "name": "stdout",
     "output_type": "stream",
     "text": [
      "<class 'numpy.ndarray'>\n"
     ]
    }
   ],
   "source": [
    "print(type(img))"
   ]
  },
  {
   "cell_type": "code",
   "execution_count": null,
   "metadata": {},
   "outputs": [
    {
     "name": "stdout",
     "output_type": "stream",
     "text": [
      "[[387, 72, 992, 585], [19, 30, 344, 543]]\n"
     ]
    }
   ],
   "source": [
    "bboxins = getBBOX(sst)\n",
    "print(bboxins)\n",
    "showBBOX(img, bboxins, True)"
   ]
  },
  {
   "cell_type": "code",
   "execution_count": null,
   "metadata": {},
   "outputs": [],
   "source": []
  }
 ],
 "metadata": {
  "kernelspec": {
   "display_name": "Python 3",
   "language": "python",
   "name": "python3"
  },
  "language_info": {
   "codemirror_mode": {
    "name": "ipython",
    "version": 3
   },
   "file_extension": ".py",
   "mimetype": "text/x-python",
   "name": "python",
   "nbconvert_exporter": "python",
   "pygments_lexer": "ipython3",
   "version": "3.6.7"
  }
 },
 "nbformat": 4,
 "nbformat_minor": 2
}
